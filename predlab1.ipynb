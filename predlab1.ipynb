{
  "nbformat": 4,
  "nbformat_minor": 0,
  "metadata": {
    "colab": {
      "provenance": [],
      "authorship_tag": "ABX9TyOZ7/FL+ooHKskeYhRElm+I",
      "include_colab_link": true
    },
    "kernelspec": {
      "name": "python3",
      "display_name": "Python 3"
    },
    "language_info": {
      "name": "python"
    }
  },
  "cells": [
    {
      "cell_type": "markdown",
      "metadata": {
        "id": "view-in-github",
        "colab_type": "text"
      },
      "source": [
        "<a href=\"https://colab.research.google.com/github/PolChip/2course_pracpy/blob/main/predlab1.ipynb\" target=\"_parent\"><img src=\"https://colab.research.google.com/assets/colab-badge.svg\" alt=\"Open In Colab\"/></a>"
      ]
    },
    {
      "cell_type": "code",
      "source": [
        "#№1 1сент\n",
        "text = input()\n",
        "counts = {}\n",
        "for bukv in text:\n",
        "    if bukv in counts:\n",
        "        counts[bukv] += 1\n",
        "    else:\n",
        "        counts[bukv] = 1\n",
        "max_count = 0\n",
        "result = None\n",
        "for bukv in sorted(counts.keys()):\n",
        "    if counts[bukv] > max_count:\n",
        "        max_count = counts[bukv]\n",
        "        result = bukv\n",
        "print(result)"
      ],
      "metadata": {
        "colab": {
          "base_uri": "https://localhost:8080/"
        },
        "id": "lyknAgS2bvJA",
        "outputId": "62737093-b1e3-48c1-c5e4-fee5e08a8483"
      },
      "execution_count": null,
      "outputs": [
        {
          "output_type": "stream",
          "name": "stdout",
          "text": [
            "jjhfdjdff\n",
            "f\n"
          ]
        }
      ]
    },
    {
      "cell_type": "code",
      "source": [
        "#№2 1 сент\n",
        "numbers = list(map(int, input()))\n",
        "S = int(input())\n",
        "count = 0\n",
        "for i in range(len(numbers)):\n",
        "    summ = 0\n",
        "    for j in range(i, len(numbers)):\n",
        "        summ += numbers[j]\n",
        "        if summ == S:\n",
        "            count += 1\n",
        "print(count)"
      ],
      "metadata": {
        "colab": {
          "base_uri": "https://localhost:8080/"
        },
        "id": "LMS3VYYXdrc5",
        "outputId": "b0e86fdf-d541-4360-b8ec-4b4fb6dc0165"
      },
      "execution_count": null,
      "outputs": [
        {
          "output_type": "stream",
          "name": "stdout",
          "text": [
            "1212334569\n",
            "3\n",
            "5\n"
          ]
        }
      ]
    }
  ]
}